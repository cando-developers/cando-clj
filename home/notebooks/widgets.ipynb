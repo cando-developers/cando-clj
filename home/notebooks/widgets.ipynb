{
 "cells": [
  {
   "cell_type": "code",
   "execution_count": 1,
   "metadata": {},
   "outputs": [
    {
     "data": {
      "text/plain": [
       "#<PACKAGE WIDGETS>"
      ]
     },
     "execution_count": 1,
     "metadata": {},
     "output_type": "execute_result"
    },
    {
     "data": {
      "text/plain": [
       "#<PACKAGE WIDGETS>"
      ]
     },
     "execution_count": 1,
     "metadata": {},
     "output_type": "execute_result"
    }
   ],
   "source": [
    "(defpackage #:widgets\n",
    "  (:use :common-lisp)\n",
    "  (:local-nicknames (:j :jupyter)\n",
    "                    (:w :jupyter-widgets)))\n",
    "\n",
    "(in-package :widgets)"
   ]
  },
  {
   "cell_type": "code",
   "execution_count": 2,
   "metadata": {},
   "outputs": [
    {
     "data": {
      "application/vnd.jupyter.widget-view+json": {
       "model_id": "305a04d984c54db85fa2394e14891546",
       "version_major": 2,
       "version_minor": 0
      },
      "text/plain": [
       "A Jupyter Widget"
      ]
     },
     "metadata": {},
     "output_type": "display_data"
    }
   ],
   "source": [
    "(progn\n",
    "  (defparameter +options+ '(\"fu\" \"bar\" \"wibble\" \"quux\" \"baz\" \"gronk\" \"kilroy\"))\n",
    "  (defparameter +desc-width+ \"12em\")\n",
    "  (defparameter +desc-style+ (make-instance 'w:description-style :description-width +desc-width+))\n",
    "  (defparameter +box-layout+ (make-instance 'w:layout :width \"auto\" :flex-flow \"row wrap\"))\n",
    "  (defparameter +slider-style+ (make-instance 'w:slider-style :description-width +desc-width+))\n",
    "  (defparameter +widget-layout+ (make-instance 'w:layout :width \"28em\"))\n",
    "    \n",
    "  (make-instance 'w:accordion\n",
    "                 :children (list (make-instance 'w:h-box\n",
    "                                                :layout +box-layout+\n",
    "                                                :children (list (make-instance 'w:color-picker :description \"color-picker\" :style +desc-style+)\n",
    "                                                                (make-instance 'w:date-picker :description \"date-picker\" :style +desc-style+)))\n",
    "                                 (make-instance 'w:h-box\n",
    "                                                :layout +box-layout+\n",
    "                                                :children (list (make-instance 'w:dropdown :description \"dropdown\" :style +desc-style+ :layout +widget-layout+ :%options-labels +options+)\n",
    "                                                                (make-instance 'w:radio-buttons :description \"radio-button\" :style +desc-style+ :layout +widget-layout+ :%options-labels +options+)\n",
    "                                                                (make-instance 'w:select :description \"select\" :style +desc-style+ :layout +widget-layout+  :%options-labels +options+)\n",
    "                                                                (make-instance 'w:selection-slider :description \"selection-slider\" :style +slider-style+ :layout +widget-layout+ :%options-labels +options+)\n",
    "                                                                (make-instance 'w:selection-range-slider :description \"selection-range-slider\" :style +slider-style+ :layout +widget-layout+  :%options-labels +options+)\n",
    "                                                                (make-instance 'w:select-multiple :description \"select-multiple\" :style +desc-style+ :layout +widget-layout+  :%options-labels +options+)))\n",
    "                                 (make-instance 'w:h-box\n",
    "                                                :layout +box-layout+\n",
    "                                                :children (list (make-instance 'w:button :description \"button\" :style +desc-style+)\n",
    "                                                                (make-instance 'w:toggle-button :description \"toggle-button\" :style +desc-style+))))\n",
    "                 :%titles '(\"Picker Widgets\" \"Selection Widgets\" \"Buttons\")))"
   ]
  },
  {
   "cell_type": "code",
   "execution_count": 3,
   "metadata": {},
   "outputs": [
    {
     "data": {
      "application/vnd.jupyter.widget-view+json": {
       "model_id": "f7b4ce8aafef4cb19459a0d82a7d5bf9",
       "version_major": 2,
       "version_minor": 0
      },
      "text/plain": [
       "A Jupyter Widget"
      ]
     },
     "metadata": {},
     "output_type": "display_data"
    }
   ],
   "source": [
    "(make-instance 'w:v-box)"
   ]
  },
  {
   "cell_type": "code",
   "execution_count": 4,
   "metadata": {},
   "outputs": [
    {
     "data": {
      "application/vnd.jupyter.widget-view+json": {
       "model_id": "62826a391aa8487bd19ae132b94c7482",
       "version_major": 2,
       "version_minor": 0
      },
      "text/plain": [
       "A Jupyter Widget"
      ]
     },
     "metadata": {},
     "output_type": "display_data"
    }
   ],
   "source": [
    "(make-instance 'w:accordion)"
   ]
  },
  {
   "cell_type": "code",
   "execution_count": null,
   "metadata": {},
   "outputs": [],
   "source": []
  }
 ],
 "metadata": {
  "kernelspec": {
   "display_name": "Common Lisp (clasp)",
   "language": "common-lisp",
   "name": "common-lisp_clasp"
  },
  "language_info": {
   "codemirror_mode": "text/x-common-lisp",
   "file_extension": ".lisp",
   "mimetype": "text/x-common-lisp",
   "name": "common-lisp",
   "pygments_lexer": "common-lisp",
   "version": "cclasp-boehm-0.4.2-2432-g81c9bf331-cst"
  }
 },
 "nbformat": 4,
 "nbformat_minor": 4
}
